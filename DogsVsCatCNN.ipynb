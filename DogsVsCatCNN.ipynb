{
 "cells": [
  {
   "cell_type": "code",
   "execution_count": null,
   "metadata": {},
   "outputs": [],
   "source": [
    "import pandas as pd\n",
    "import numpy as np\n",
    "import matplotlib.pyplot as plt\n",
    "from numpy import load\n",
    "\n",
    "from keras.optimizers import SGD\n",
    "from keras.models import Sequential\n",
    "from keras.layers import Conv2D\n",
    "from keras.layers import MaxPooling2D\n",
    "from keras.layers import Flatten\n",
    "from keras.layers import Dense\n",
    "from keras.layers import BatchNormalization\n",
    "from keras.layers import Dropout\n",
    "from keras.preprocessing.image import ImageDataGenerator"
   ]
  },
  {
   "cell_type": "markdown",
   "metadata": {},
   "source": [
    "## Plot\n",
    "This function will plot the relationship between the accuracy and the number of epochs. Similarly, it will also plot the relationship between the loss and the number of epochs."
   ]
  },
  {
   "cell_type": "code",
   "execution_count": null,
   "metadata": {},
   "outputs": [],
   "source": [
    "def Plot(history):\n",
    "    plt.title(\"Epoch vs Accuracy\")\n",
    "    plt.xlabel(\"Epochs\")\n",
    "    plt.ylabel(\"Accuracy\")\n",
    "    plt.plot(history.history[\"accuracy\"], color=\"blue\", label=\"train\")\n",
    "    plt.plot(history.history[\"val_accuracy\"], color=\"red\", label=\"test\")\n",
    "    \n",
    "    plt.title(\"Epoch vs Loss\")\n",
    "    plt.xlabel(\"Epochs\")\n",
    "    plt.ylabel(\"Loss\")\n",
    "    plt.plot(history.history[\"loss\"], color=\"blue\", label=\"train\")\n",
    "    plt.plot(history.history[\"val_loss\"], color=\"red\", label=\"test\")"
   ]
  },
  {
   "cell_type": "markdown",
   "metadata": {},
   "source": [
    "## CNN\n"
   ]
  },
  {
   "cell_type": "code",
   "execution_count": null,
   "metadata": {},
   "outputs": [],
   "source": [
    "def CNN():\n",
    "\n",
    "    CNN = Sequential()\n",
    "    # Convolution 1st layer - Reshapes the images before sending them through the blocks.\n",
    "    CNN.add(Conv2D(32, (3, 3), kernel_initializer=\"he_uniform\", activation=\"relu\", padding=\"same\",  input_shape=(100, 100, 3)))\n",
    "    CNN.add(BatchNormalization())\n",
    "    CNN.add(MaxPooling2D(pool_size=(2, 2))) # Pooling\n",
    "    CNN.add(Dropout(0.2))\n",
    "\n",
    "    # 2nd layer  ...and another one\n",
    "    CNN.add(Conv2D(64, (3, 3), activation=\"relu\", kernel_initializer=\"he_uniform\", padding=\"same\"))\n",
    "    CNN.add(BatchNormalization())\n",
    "    CNN.add(MaxPooling2D(pool_size=(2, 2)))\n",
    "    CNN.add(Dropout(0.2))\n",
    "\n",
    "    # 3rd layer  ...and anudda wun\n",
    "    CNN.add(Conv2D(128, (3, 3), activation=\"relu\", kernel_initializer=\"he_uniform\", padding=\"same\"))\n",
    "    CNN.add(BatchNormalization())\n",
    "    CNN.add(MaxPooling2D(pool_size=(2, 2)))\n",
    "    CNN.add(Dropout(0.5))\n",
    "    CNN.add(Dense(2, activation=\"softmax\"))\n",
    "\n",
    "    CNN.add(Flatten()) #Flattening\n",
    "    CNN.add(Dense(128, activation=\"relu\", kernel_initializer=\"he_uniform\"))\n",
    "    CNN.add(Dense(1, activation=\"sigmoid\"))\n",
    "\n",
    "    opt = SGD(lr=0.001, momentum=0.9) # learning rate alpha\n",
    "    CNN.compile(optimizer=opt, loss=\"binary_crossentropy\", metrics=[\"accuracy\"])\n",
    "\n",
    "    # CNN.summary()\n",
    "    return CNN"
   ]
  },
  {
   "cell_type": "markdown",
   "metadata": {},
   "source": [
    "## Main"
   ]
  },
  {
   "cell_type": "code",
   "execution_count": null,
   "metadata": {},
   "outputs": [],
   "source": [
    "if __name__ == \"__main__\":\n",
    "    CNN = CNN()\n",
    "\n",
    "    imgGen = ImageDataGenerator(rescale=1.0/255.0, width_shift_range=0.1, height_shift_range=0.1, horizontal_flip=True)\n",
    "    imgGen = ImageDataGenerator(rescale=1.0/255.0)\n",
    "\n",
    "    trainCNN = imgGen.flow_from_directory(\"CatsAndDogs/dbTrain/\", class_mode=\"binary\", batch_size=64, target_size=(100, 100))\n",
    "    testCNN = imgGen.flow_from_directory(\"CatsAndDogs/dbTest\", class_mode=\"binary\", batch_size=64, target_size=(100, 100))\n",
    "\n",
    "    history = CNN.fit_generator(trainCNN, steps_per_epoch=len(trainCNN), validation_data=testCNN, validation_steps=len(testCNN), epochs=50, verbose=0)\n",
    "    _, acc = CNN.evaluate_generator(testCNN, steps=len(testCNN), verbose=0)\n",
    "\n",
    "    print(\"Accuracy is %.3f\" % (acc * 100.0))\n",
    "    Plot(history)\n",
    "\n",
    "    CNN.save(\"VGG3_MODEL2.h5\")"
   ]
  }
 ],
 "metadata": {
  "kernelspec": {
   "display_name": "Python 3",
   "language": "python",
   "name": "python3"
  },
  "language_info": {
   "codemirror_mode": {
    "name": "ipython",
    "version": 3
   },
   "file_extension": ".py",
   "mimetype": "text/x-python",
   "name": "python",
   "nbconvert_exporter": "python",
   "pygments_lexer": "ipython3",
   "version": "3.8.5"
  }
 },
 "nbformat": 4,
 "nbformat_minor": 4
}
